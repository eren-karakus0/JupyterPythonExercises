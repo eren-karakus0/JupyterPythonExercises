{
 "cells": [
  {
   "cell_type": "markdown",
   "id": "cccae91e",
   "metadata": {},
   "source": [
    "# hapsetmek"
   ]
  },
  {
   "cell_type": "code",
   "execution_count": 16,
   "id": "d0e5f2ea",
   "metadata": {},
   "outputs": [],
   "source": [
    "class Phone():\n",
    "    \n",
    "    def __init__(self,name,price):\n",
    "        self.name = name\n",
    "        self.__price = price # __  --> encapsulation price a sadece bu sınıf içinde erişebilirim\n",
    "    \n",
    "    def info(self):\n",
    "        print(f\"{self.name} price is: {self.__price}\")\n",
    "        \n",
    "    def changePrice(self,price):\n",
    "        self.__price = price"
   ]
  },
  {
   "cell_type": "code",
   "execution_count": 17,
   "id": "b7dbf764",
   "metadata": {},
   "outputs": [],
   "source": [
    "iphone = Phone(\"iPhone 14\",500)"
   ]
  },
  {
   "cell_type": "code",
   "execution_count": 18,
   "id": "bc015f22",
   "metadata": {},
   "outputs": [
    {
     "name": "stdout",
     "output_type": "stream",
     "text": [
      "iPhone 14 price is: 500\n"
     ]
    }
   ],
   "source": [
    "iphone.info()"
   ]
  },
  {
   "cell_type": "code",
   "execution_count": 19,
   "id": "f716cefc",
   "metadata": {},
   "outputs": [],
   "source": [
    "iphone.__price = 400 # burada price a 400 vermeme rağmen değişmedi "
   ]
  },
  {
   "cell_type": "code",
   "execution_count": 20,
   "id": "39164756",
   "metadata": {},
   "outputs": [
    {
     "name": "stdout",
     "output_type": "stream",
     "text": [
      "iPhone 14 price is: 500\n"
     ]
    }
   ],
   "source": [
    "iphone.info()"
   ]
  },
  {
   "cell_type": "code",
   "execution_count": 15,
   "id": "d6177825",
   "metadata": {},
   "outputs": [],
   "source": [
    "# örneğin fiyatın değiştirilmesini istemiyorum buna encapsulation deniyor"
   ]
  },
  {
   "cell_type": "code",
   "execution_count": 21,
   "id": "2f9ffb6c",
   "metadata": {},
   "outputs": [],
   "source": [
    "iphone.changePrice(300)"
   ]
  },
  {
   "cell_type": "code",
   "execution_count": 22,
   "id": "09ab8fb0",
   "metadata": {},
   "outputs": [
    {
     "name": "stdout",
     "output_type": "stream",
     "text": [
      "iPhone 14 price is: 300\n"
     ]
    }
   ],
   "source": [
    "iphone.info()"
   ]
  },
  {
   "cell_type": "code",
   "execution_count": 23,
   "id": "3688576b",
   "metadata": {},
   "outputs": [],
   "source": [
    "# ana sınıf içinde yaptığım changePrice fonksiyonu ile price \n",
    "# değerini de değiştirebilirim"
   ]
  },
  {
   "cell_type": "code",
   "execution_count": null,
   "id": "475aa2ba",
   "metadata": {},
   "outputs": [],
   "source": []
  }
 ],
 "metadata": {
  "kernelspec": {
   "display_name": "Python 3 (ipykernel)",
   "language": "python",
   "name": "python3"
  },
  "language_info": {
   "codemirror_mode": {
    "name": "ipython",
    "version": 3
   },
   "file_extension": ".py",
   "mimetype": "text/x-python",
   "name": "python",
   "nbconvert_exporter": "python",
   "pygments_lexer": "ipython3",
   "version": "3.11.5"
  }
 },
 "nbformat": 4,
 "nbformat_minor": 5
}
