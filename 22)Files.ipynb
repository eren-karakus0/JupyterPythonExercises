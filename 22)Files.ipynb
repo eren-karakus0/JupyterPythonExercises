{
 "cells": [
  {
   "cell_type": "markdown",
   "id": "2001a12a",
   "metadata": {},
   "source": [
    "# dosyalarla çalışmak"
   ]
  },
  {
   "cell_type": "code",
   "execution_count": 1,
   "id": "f9368961",
   "metadata": {},
   "outputs": [
    {
     "name": "stdout",
     "output_type": "stream",
     "text": [
      "Writing myfile.txt\n"
     ]
    }
   ],
   "source": [
    "%%writefile myfile.txt\n",
    "test 1\n",
    "test 2\n",
    "test 3"
   ]
  },
  {
   "cell_type": "code",
   "execution_count": 2,
   "id": "5816dc03",
   "metadata": {},
   "outputs": [],
   "source": [
    "myFile = open(\"myfile.txt\") #parantez içine açacağın dosyanın tam adını \n",
    "#yazman gerekir /user*desktop/python gibi\n",
    "#şimdi bunları yazmama gerek yok çünkü dosya aynı klasörde"
   ]
  },
  {
   "cell_type": "code",
   "execution_count": 3,
   "id": "a5764a11",
   "metadata": {},
   "outputs": [
    {
     "data": {
      "text/plain": [
       "_io.TextIOWrapper"
      ]
     },
     "execution_count": 3,
     "metadata": {},
     "output_type": "execute_result"
    }
   ],
   "source": [
    "type(myFile)"
   ]
  },
  {
   "cell_type": "code",
   "execution_count": 4,
   "id": "41397b2a",
   "metadata": {},
   "outputs": [
    {
     "data": {
      "text/plain": [
       "'test 1\\ntest 2\\ntest 3\\n'"
      ]
     },
     "execution_count": 4,
     "metadata": {},
     "output_type": "execute_result"
    }
   ],
   "source": [
    "myFile.read() # metnimi okur ve yazdırır"
   ]
  },
  {
   "cell_type": "code",
   "execution_count": 5,
   "id": "e9192d39",
   "metadata": {},
   "outputs": [
    {
     "data": {
      "text/plain": [
       "''"
      ]
     },
     "execution_count": 5,
     "metadata": {},
     "output_type": "execute_result"
    }
   ],
   "source": [
    "myFile.read() # metni okuduğu için son karaktere geliyor ve burası boşluk\n",
    "# bu nedenle hiçbir şey yazdırmıyor okuyacağı bir şey kalmadı"
   ]
  },
  {
   "cell_type": "code",
   "execution_count": 7,
   "id": "57ac8ecd",
   "metadata": {},
   "outputs": [
    {
     "data": {
      "text/plain": [
       "0"
      ]
     },
     "execution_count": 7,
     "metadata": {},
     "output_type": "execute_result"
    }
   ],
   "source": [
    "myFile.seek(0) # seek ile metnin başına gitmesini sağlıyoruz"
   ]
  },
  {
   "cell_type": "code",
   "execution_count": 8,
   "id": "cb097427",
   "metadata": {},
   "outputs": [
    {
     "data": {
      "text/plain": [
       "'test 1\\ntest 2\\ntest 3\\n'"
      ]
     },
     "execution_count": 8,
     "metadata": {},
     "output_type": "execute_result"
    }
   ],
   "source": [
    "myFile.read() # ve yeniden okuyabiliyor"
   ]
  },
  {
   "cell_type": "code",
   "execution_count": 9,
   "id": "d6c2905d",
   "metadata": {},
   "outputs": [],
   "source": [
    "myFile.close() #sonunda da close ile kapatmak lazım sıkıntı çıkabilir"
   ]
  },
  {
   "cell_type": "code",
   "execution_count": 10,
   "id": "9ffe15bb",
   "metadata": {},
   "outputs": [],
   "source": [
    "# yukarıda yaptığım işlemleri de rahat bir şekilde with as ile yapabilirim\n",
    "with open(\"myfile.txt\") as myFile: \n",
    "    myContent = myFile.read()"
   ]
  },
  {
   "cell_type": "code",
   "execution_count": 11,
   "id": "11ad10eb",
   "metadata": {},
   "outputs": [
    {
     "data": {
      "text/plain": [
       "'test 1\\ntest 2\\ntest 3\\n'"
      ]
     },
     "execution_count": 11,
     "metadata": {},
     "output_type": "execute_result"
    }
   ],
   "source": [
    "myContent"
   ]
  },
  {
   "cell_type": "code",
   "execution_count": 13,
   "id": "885959e7",
   "metadata": {},
   "outputs": [
    {
     "data": {
      "text/plain": [
       "'test 1\\ntest 2\\ntest 3\\n'"
      ]
     },
     "execution_count": 13,
     "metadata": {},
     "output_type": "execute_result"
    }
   ],
   "source": [
    "myContent"
   ]
  },
  {
   "cell_type": "code",
   "execution_count": 14,
   "id": "d2765ec3",
   "metadata": {},
   "outputs": [],
   "source": [
    "with open(\"myfile.txt\",mode = \"w\") as myNewFile:\n",
    "    myNewFile.write(\"test 4\")"
   ]
  },
  {
   "cell_type": "code",
   "execution_count": 15,
   "id": "ed542ec6",
   "metadata": {},
   "outputs": [
    {
     "data": {
      "text/plain": [
       "<_io.TextIOWrapper name='myfile.txt' mode='w' encoding='cp1254'>"
      ]
     },
     "execution_count": 15,
     "metadata": {},
     "output_type": "execute_result"
    }
   ],
   "source": [
    "myNewFile"
   ]
  },
  {
   "cell_type": "code",
   "execution_count": 16,
   "id": "ae3c999f",
   "metadata": {},
   "outputs": [],
   "source": [
    "with open(\"myfile.txt\",mode = \"r\") as myFile2:\n",
    "    myContent = myFile2.read()"
   ]
  },
  {
   "cell_type": "code",
   "execution_count": 17,
   "id": "9e03933e",
   "metadata": {},
   "outputs": [
    {
     "data": {
      "text/plain": [
       "'test 4'"
      ]
     },
     "execution_count": 17,
     "metadata": {},
     "output_type": "execute_result"
    }
   ],
   "source": [
    "myContent"
   ]
  },
  {
   "cell_type": "markdown",
   "id": "068cea56",
   "metadata": {},
   "source": [
    "#  w -> write , r -> read , a -> append"
   ]
  },
  {
   "cell_type": "code",
   "execution_count": 18,
   "id": "ef79cc73",
   "metadata": {},
   "outputs": [],
   "source": [
    "with open(\"myfile.txt\",mode = \"a\") as myNewFile3: # --> bunları değiştirmeme de gerek yok\n",
    "    myNewFile3.write(\"test 5\")"
   ]
  },
  {
   "cell_type": "code",
   "execution_count": 19,
   "id": "c140534d",
   "metadata": {},
   "outputs": [],
   "source": [
    "with open(\"myfile.txt\",mode = \"r\") as myNewFile4:\n",
    "    myContent = myNewFile4.read()"
   ]
  },
  {
   "cell_type": "code",
   "execution_count": 20,
   "id": "2a57af34",
   "metadata": {},
   "outputs": [
    {
     "data": {
      "text/plain": [
       "'test 4test 5'"
      ]
     },
     "execution_count": 20,
     "metadata": {},
     "output_type": "execute_result"
    }
   ],
   "source": [
    "myContent"
   ]
  },
  {
   "cell_type": "code",
   "execution_count": 21,
   "id": "4887d496",
   "metadata": {},
   "outputs": [],
   "source": [
    "# kısaca write ile metindeki her şeyi silip yenilerini yazarız\n",
    "#read ile bunları okuruz\n",
    "# append ile yeni veri yazarız ama write tan farkı eski verileri silmez"
   ]
  },
  {
   "cell_type": "code",
   "execution_count": null,
   "id": "a5e0493b",
   "metadata": {},
   "outputs": [],
   "source": []
  }
 ],
 "metadata": {
  "kernelspec": {
   "display_name": "Python 3 (ipykernel)",
   "language": "python",
   "name": "python3"
  },
  "language_info": {
   "codemirror_mode": {
    "name": "ipython",
    "version": 3
   },
   "file_extension": ".py",
   "mimetype": "text/x-python",
   "name": "python",
   "nbconvert_exporter": "python",
   "pygments_lexer": "ipython3",
   "version": "3.11.5"
  }
 },
 "nbformat": 4,
 "nbformat_minor": 5
}
