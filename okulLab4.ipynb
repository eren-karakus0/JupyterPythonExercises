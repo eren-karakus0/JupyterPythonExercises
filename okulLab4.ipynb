{
 "cells": [
  {
   "cell_type": "code",
   "execution_count": 2,
   "id": "a27fd5c8",
   "metadata": {},
   "outputs": [
    {
     "name": "stdout",
     "output_type": "stream",
     "text": [
      "120\n",
      "120\n"
     ]
    }
   ],
   "source": [
    "def carp(liste):\n",
    "    a = 1\n",
    "    for i in liste:\n",
    "        a *= i\n",
    "    print(a)\n",
    "liste = [5, 6, 4]\n",
    "carp(liste) #fonksiyon tanımla istediğin yerde kullan\n",
    "carp(liste)"
   ]
  },
  {
   "cell_type": "code",
   "execution_count": 3,
   "id": "2b59f07b",
   "metadata": {},
   "outputs": [
    {
     "name": "stdout",
     "output_type": "stream",
     "text": [
      "8\n",
      "44\n",
      "0.18181818181818182\n",
      "merhaba\n"
     ]
    }
   ],
   "source": [
    "def islemyap(a, b, c):\n",
    "    print(a / b)\n",
    "    print(c)\n",
    "a = input()\n",
    "b = input()\n",
    "islemyap(int(a), int(b), \"merhaba\")"
   ]
  },
  {
   "cell_type": "code",
   "execution_count": 4,
   "id": "3005b0f2",
   "metadata": {},
   "outputs": [
    {
     "name": "stdout",
     "output_type": "stream",
     "text": [
      "5\n",
      "a nın değeri:  10\n"
     ]
    }
   ],
   "source": [
    "def fonk():\n",
    "    a = 5\n",
    "    print(a)\n",
    "fonk()\n",
    "a = 10\n",
    "print(\"a nın değeri: \", a)  #global fonksiyon dışından erişim sağlar\n",
    "#aşağıdaki örnekte fonk içinde global a tanımlandı\n",
    "#fonk tan çıktıktan sonra normalde a tanımlamadığım için hata vermesi lazım\n",
    "#global fonk sayesinde tanımlamama gerek kalmıyor"
   ]
  },
  {
   "cell_type": "code",
   "execution_count": 5,
   "id": "01f4cb09",
   "metadata": {},
   "outputs": [
    {
     "name": "stdout",
     "output_type": "stream",
     "text": [
      "5\n",
      "a nın değeri:  5\n"
     ]
    }
   ],
   "source": [
    "def fonk():\n",
    "    global a\n",
    "    a = 5\n",
    "    print(a)\n",
    "fonk()\n",
    "print(\"a nın değeri: \", a) "
   ]
  },
  {
   "cell_type": "code",
   "execution_count": 6,
   "id": "4d6a90eb",
   "metadata": {},
   "outputs": [
    {
     "name": "stdout",
     "output_type": "stream",
     "text": [
      "a nın fonksiyon içindeki değeri 5\n",
      "a nın fonksiyon dışındaki değeri 5\n"
     ]
    }
   ],
   "source": [
    "a = 10\n",
    "def fonk():\n",
    "    global a\n",
    "    a = 5 \n",
    "    return a\n",
    "print(\"a nın fonksiyon içindeki değeri\",fonk())\n",
    "print(\"a nın fonksiyon dışındaki değeri\",a)"
   ]
  },
  {
   "cell_type": "code",
   "execution_count": 7,
   "id": "1f1c9dd2",
   "metadata": {},
   "outputs": [
    {
     "name": "stdout",
     "output_type": "stream",
     "text": [
      "Giriniz: 8\n",
      "['8']\n",
      "Giriniz: 5\n",
      "['8', '5']\n",
      "Giriniz: 0\n"
     ]
    }
   ],
   "source": [
    "def deneme():\n",
    "    liste = []\n",
    "    while True:\n",
    "        a = input(\"Giriniz: \")\n",
    "        if a == \"0\":\n",
    "            #pass devam eder\n",
    "            break;\n",
    "        else:\n",
    "            liste.append(a)\n",
    "            print(liste)\n",
    "deneme()"
   ]
  },
  {
   "cell_type": "code",
   "execution_count": 8,
   "id": "4b84de51",
   "metadata": {},
   "outputs": [
    {
     "name": "stdout",
     "output_type": "stream",
     "text": [
      "Bir sayı giriniz: 8\n",
      "Mükemmel sayı değildir\n"
     ]
    }
   ],
   "source": [
    "sayi = int(input(\"Bir sayı giriniz: \"))\n",
    "toplam = 0\n",
    "for i in range(1,sayi):\n",
    "    if sayi % i == 0:\n",
    "        toplam +=i\n",
    "if(sayi == toplam):\n",
    "    print(\"mükemmel sayı\")\n",
    "else:\n",
    "    print(\"Mükemmel sayı değildir\")"
   ]
  },
  {
   "cell_type": "code",
   "execution_count": 9,
   "id": "9271abbd",
   "metadata": {},
   "outputs": [
    {
     "name": "stdout",
     "output_type": "stream",
     "text": [
      "Öğrenci adını giriniz: eren\n",
      "Vize notunu giriniz: 4\n",
      "Final notubu giriniz: 99\n"
     ]
    },
    {
     "data": {
      "text/plain": [
       "{'Öğrenci adı': 'eren', 'Vize notu': 4, 'Final notu': 99, 'Ortalama': 61.0}"
      ]
     },
     "execution_count": 9,
     "metadata": {},
     "output_type": "execute_result"
    }
   ],
   "source": [
    "ogrenci_adi = input(\"Öğrenci adını giriniz: \")\n",
    "vize_not = int(input(\"Vize notunu giriniz: \"))\n",
    "final_not = int(input(\"Final notubu giriniz: \"))\n",
    "ortalama = vize_not * 40 / 100 + final_not * 60 / 100\n",
    "dictionary = {\"Öğrenci adı\" :(ogrenci_adi) , \"Vize notu\" : (vize_not) , \"Final notu\" : (final_not) , \"Ortalama\" : float((ortalama))}\n",
    "dictionary"
   ]
  },
  {
   "cell_type": "code",
   "execution_count": 10,
   "id": "f283fd10",
   "metadata": {},
   "outputs": [
    {
     "name": "stdout",
     "output_type": "stream",
     "text": [
      "10\n",
      "6\n"
     ]
    }
   ],
   "source": [
    "def toplam(liste):\n",
    "    toplam = 0\n",
    "    for i in liste:\n",
    "        toplam += i\n",
    "    return toplam\n",
    "print(toplam([1,2,3,4]))\n",
    "print(toplam(liste = [1,2,3]))"
   ]
  },
  {
   "cell_type": "code",
   "execution_count": 11,
   "id": "a2beb943",
   "metadata": {},
   "outputs": [
    {
     "name": "stdout",
     "output_type": "stream",
     "text": [
      "Bir sayı giriniz: 8\n"
     ]
    },
    {
     "data": {
      "text/plain": [
       "[[2, 3, 5, 7], 17]"
      ]
     },
     "execution_count": 11,
     "metadata": {},
     "output_type": "execute_result"
    }
   ],
   "source": [
    "n = int(input(\"Bir sayı giriniz: \"))\n",
    "def p_bolenler(n):\n",
    "    liste = []\n",
    "    for i in range(1 , n+1):\n",
    "        if( n % i == 0):\n",
    "            liste.append(i)\n",
    "    return liste\n",
    "\n",
    "def asal_mi(n):\n",
    "    liste = p_bolenler(n)\n",
    "    if( len(liste) == 2 ):\n",
    "        sonuc = True\n",
    "    else:\n",
    "        sonuc = False\n",
    "    return sonuc\n",
    "\n",
    "def asallar(n):\n",
    "    liste = []\n",
    "    for i in range (1,n):\n",
    "        if (asal_mi(i) == True):\n",
    "            liste.append(i)\n",
    "            liste2 = [liste,sum(liste)]\n",
    "    return liste2\n",
    "p_bolenler(n)\n",
    "asal_mi(n)\n",
    "asallar(n)"
   ]
  },
  {
   "cell_type": "code",
   "execution_count": 12,
   "id": "3cfe3554",
   "metadata": {},
   "outputs": [
    {
     "name": "stdout",
     "output_type": "stream",
     "text": [
      "Bir sayı giriniz: 5\n",
      "Asal Sayıların Listesi: [2, 3, 5]\n",
      "Bu Asal Sayıların Toplamı: 10\n"
     ]
    }
   ],
   "source": [
    "def asal_sayilarin_listesi_ve_toplami(ust_sinir):\n",
    "    asal_sayilar = []\n",
    "    toplam = 0\n",
    "\n",
    "    for i in range(2, ust_sinir + 1):\n",
    "        for j in range(2, i):\n",
    "            if (i % j) == 0:\n",
    "                break\n",
    "        else:\n",
    "            asal_sayilar.append(i)\n",
    "            toplam += i\n",
    "\n",
    "    return asal_sayilar, toplam\n",
    "\n",
    "# Örnek kullanım\n",
    "ust_sinir = int(input(\"Bir sayı giriniz: \"))\n",
    "asal_listesi, toplam = asal_sayilarin_listesi_ve_toplami(ust_sinir)\n",
    "\n",
    "print(\"Asal Sayıların Listesi:\", asal_listesi)\n",
    "print(\"Bu Asal Sayıların Toplamı:\", toplam)\n"
   ]
  },
  {
   "cell_type": "code",
   "execution_count": 13,
   "id": "6ed52369",
   "metadata": {},
   "outputs": [
    {
     "name": "stdout",
     "output_type": "stream",
     "text": [
      "Adınızı soyadınızı giriniz (Çıkmak için * tuşuna basınız.) :eren karakuş\n",
      "Doğum yılınızı giriniz: 2004\n",
      "eren karakuş 19 yaşındadır.\n",
      "Adınızı soyadınızı giriniz (Çıkmak için * tuşuna basınız.) :*\n"
     ]
    }
   ],
   "source": [
    "def islem(name ,year):\n",
    "    age = 2023 - year\n",
    "    print(name , age , \"yaşındadır.\")\n",
    "name = \"\"\n",
    "while name != \"*\":\n",
    "    name = input(\"Adınızı soyadınızı giriniz (Çıkmak için * tuşuna basınız.) :\")\n",
    "    if name != \"*\":\n",
    "        year = eval(input(\"Doğum yılınızı giriniz: \"))\n",
    "        islem(name, year)\n",
    "    \n",
    "    "
   ]
  },
  {
   "cell_type": "code",
   "execution_count": 14,
   "id": "4d0a7e74",
   "metadata": {},
   "outputs": [
    {
     "name": "stdout",
     "output_type": "stream",
     "text": [
      "KARE veya CEMBER giriniz: aere\n",
      "Yanlış şekil girdiniz: \n",
      "KARE ya da CEMBER giriniz: kare\n",
      "Kenar ya da yarıçap uzunluğunu giriniz: 4\n",
      "kare için alan =  16 ve çerve =  16\n"
     ]
    }
   ],
   "source": [
    "def alanBul(seklimiz , sayimiz):\n",
    "    a = 0\n",
    "    if seklimiz.upper() == \"KARE\":\n",
    "        a = sayimiz * sayimiz\n",
    "    else:\n",
    "        a = 3.14 * sayimiz * sayimiz\n",
    "    return a\n",
    "def cevreBul(seklimiz , sayimiz):\n",
    "    a = 0\n",
    "    if seklimiz.upper() == \"KARE\":\n",
    "        a = 4 * sayimiz\n",
    "    else:\n",
    "        a = 3.14 * sayimiz * 2 \n",
    "    return a\n",
    "\n",
    "sekil = \"\"\n",
    "sayi = 0\n",
    "sayac = 0\n",
    "sekil = input(\"KARE veya CEMBER giriniz: \")\n",
    "\n",
    "while sayac == 0:\n",
    "    if sekil.upper() == \"KARE\" or sekil.upper() == \"CEMBER\":\n",
    "        sayi = eval(input(\"Kenar ya da yarıçap uzunluğunu giriniz: \"))\n",
    "        if sayi != 0:\n",
    "            alan = alanBul(sekil , sayi)\n",
    "            cevre = cevreBul(sekil , sayi)\n",
    "        sayac = 1\n",
    "    else:\n",
    "        print(\"Yanlış şekil girdiniz: \")\n",
    "        sekil = input(\"KARE ya da CEMBER giriniz: \")\n",
    "print(sekil , \"için alan = \" , alan , \"ve çerve = \" , cevre)"
   ]
  },
  {
   "cell_type": "code",
   "execution_count": null,
   "id": "2150f73e",
   "metadata": {},
   "outputs": [],
   "source": []
  }
 ],
 "metadata": {
  "kernelspec": {
   "display_name": "Python 3 (ipykernel)",
   "language": "python",
   "name": "python3"
  },
  "language_info": {
   "codemirror_mode": {
    "name": "ipython",
    "version": 3
   },
   "file_extension": ".py",
   "mimetype": "text/x-python",
   "name": "python",
   "nbconvert_exporter": "python",
   "pygments_lexer": "ipython3",
   "version": "3.11.5"
  }
 },
 "nbformat": 4,
 "nbformat_minor": 5
}
