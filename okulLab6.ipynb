{
 "cells": [
  {
   "cell_type": "code",
   "execution_count": 1,
   "id": "026b03cf",
   "metadata": {},
   "outputs": [
    {
     "name": "stdout",
     "output_type": "stream",
     "text": [
      "Santigrat değeri giriniz: 45\n",
      "113.0\n"
     ]
    }
   ],
   "source": [
    "C = float(input(\"Santigrat değeri giriniz: \"))\n",
    "F = 32+(C*1.8)\n",
    "print(float(F))"
   ]
  },
  {
   "cell_type": "code",
   "execution_count": 22,
   "id": "cf2c2833",
   "metadata": {},
   "outputs": [
    {
     "name": "stdout",
     "output_type": "stream",
     "text": [
      "[4, 10, 8, 1, 5, 2, 9, 5, 2, 2]\n",
      "[3, 1, 9, 9, 3, 10, 7, 7, 9, 10]\n",
      "4  elemanı  0  kez üretilmiştir\n",
      "10  elemanı  2  kez üretilmiştir\n",
      "8  elemanı  2  kez üretilmiştir\n",
      "1  elemanı  3  kez üretilmiştir\n",
      "5  elemanı  3  kez üretilmiştir\n",
      "2  elemanı  3  kez üretilmiştir\n",
      "9  elemanı  6  kez üretilmiştir\n",
      "5  elemanı  6  kez üretilmiştir\n",
      "2  elemanı  6  kez üretilmiştir\n",
      "2  elemanı  6  kez üretilmiştir\n"
     ]
    }
   ],
   "source": [
    "from random import randint\n",
    "list1 = []\n",
    "list2 = []\n",
    "for i in range(10):\n",
    "    list1.append(random.randint(1,10))\n",
    "    list2.append(random.randint(1,10))\n",
    "print(list1)\n",
    "print(list2)\n",
    "sayac = 0\n",
    "for i in range (len(list1)):\n",
    "    for j in range(len(list2)):\n",
    "        if list1[i] == list2[j]:\n",
    "            sayac = sayac + 1\n",
    "    print(list1[i],\" elemanı \",sayac,\" kez üretilmiştir\")"
   ]
  },
  {
   "cell_type": "code",
   "execution_count": 24,
   "id": "93a50a9c",
   "metadata": {},
   "outputs": [
    {
     "name": "stdout",
     "output_type": "stream",
     "text": [
      "Liste uzunluğunu giriniz: 5\n",
      "Liste elemanını giriniz: 45\n",
      "Liste elemanını giriniz: 78\n",
      "Liste elemanını giriniz: 12\n",
      "Liste elemanını giriniz: 23\n",
      "Liste elemanını giriniz: 56\n",
      "Liste uzunluğu:  5\n",
      "Liste:  [45, 78, 12, 23, 56]\n",
      "Ortalama:  42.8\n",
      "Ortalamdan büyük olan elemanlar:  [45, 78, 56]\n"
     ]
    }
   ],
   "source": [
    "liste_uzunluk = int(input(\"Liste uzunluğunu giriniz: \"))\n",
    "liste = []\n",
    "for i in range(liste_uzunluk):\n",
    "    r = int(input(\"Liste elemanını giriniz: \"))\n",
    "    liste.append(r)\n",
    "toplam = 0\n",
    "for i in range(len(liste)):\n",
    "    toplam = toplam + liste[i]\n",
    "ort = toplam / liste_uzunluk\n",
    "print(\"Liste uzunluğu: \",liste_uzunluk)\n",
    "print(\"Liste: \",liste)\n",
    "print(\"Ortalama: \",ort)\n",
    "liste_buyukler = []\n",
    "for i in range(liste_uzunluk):\n",
    "    if liste[i] > ort:\n",
    "        liste_buyukler.append(liste[i])\n",
    "print(\"Ortalamdan büyük olan elemanlar: \",liste_buyukler)"
   ]
  },
  {
   "cell_type": "code",
   "execution_count": 30,
   "id": "3d0d34fa",
   "metadata": {},
   "outputs": [
    {
     "name": "stdout",
     "output_type": "stream",
     "text": [
      "1\n",
      "2\n",
      "3\n",
      "4\n",
      "5\n",
      "6\n",
      "7\n",
      "8\n",
      "9\n",
      "10\n",
      "11\n",
      "12\n",
      "13\n",
      "14\n",
      "15\n",
      "16\n",
      "17\n",
      "18\n",
      "19\n",
      "20\n",
      "21\n",
      "22\n",
      "23\n",
      "24\n",
      "25\n",
      "26\n",
      "27\n",
      "28\n",
      "29\n",
      "30\n",
      "31\n",
      "32\n",
      "33\n",
      "34\n",
      "35\n",
      "36\n",
      "37\n",
      "38\n",
      "39\n",
      "40\n",
      "41\n",
      "42\n",
      "43\n",
      "44\n",
      "45\n",
      "46\n",
      "47\n",
      "48\n",
      "49\n",
      "50\n",
      "51\n",
      "52\n",
      "53\n",
      "54\n",
      "55\n",
      "56\n",
      "57\n",
      "58\n",
      "59\n",
      "60\n",
      "61\n",
      "62\n",
      "63\n",
      "64\n",
      "65\n",
      "66\n",
      "67\n",
      "68\n",
      "69\n",
      "70\n",
      "71\n",
      "72\n",
      "73\n",
      "74\n",
      "75\n",
      "76\n",
      "77\n",
      "78\n",
      "79\n",
      "80\n",
      "81\n",
      "82\n",
      "83\n",
      "84\n",
      "85\n",
      "86\n",
      "87\n",
      "88\n",
      "89\n",
      "90\n",
      "91\n",
      "92\n",
      "93\n",
      "94\n",
      "95\n",
      "96\n",
      "97\n",
      "98\n",
      "99\n",
      "100\n",
      "bitti!\n"
     ]
    }
   ],
   "source": [
    "def sayac(sayı , sınır):\n",
    "    print(sayı)\n",
    "    if sayı == sınır:\n",
    "        return 'bitti!'\n",
    "    else:\n",
    "        return sayac(sayı+1 , sınır)\n",
    "x = sayac(1,100)\n",
    "print(x)"
   ]
  },
  {
   "cell_type": "code",
   "execution_count": 48,
   "id": "26dc3f28",
   "metadata": {},
   "outputs": [
    {
     "name": "stdout",
     "output_type": "stream",
     "text": [
      "1ş1u1k2a2r2a1K1 1n1e2r1E\n"
     ]
    }
   ],
   "source": [
    "def sifrele(sifrelenecek_dizgi):\n",
    "    sonuc = []\n",
    "    for i in sifrelenecek_dizgi:\n",
    "        sonuc.append(i)\n",
    "        sonuc.append(sifrelenecek_dizgi.count(i))\n",
    "    sonuc = sonuc [::-1]\n",
    "    return sonuc\n",
    "print(''.join(str(i) for i in sifrele(\"Eren Karakuş\")))"
   ]
  },
  {
   "cell_type": "code",
   "execution_count": null,
   "id": "a4387f86",
   "metadata": {},
   "outputs": [],
   "source": []
  }
 ],
 "metadata": {
  "kernelspec": {
   "display_name": "Python 3 (ipykernel)",
   "language": "python",
   "name": "python3"
  },
  "language_info": {
   "codemirror_mode": {
    "name": "ipython",
    "version": 3
   },
   "file_extension": ".py",
   "mimetype": "text/x-python",
   "name": "python",
   "nbconvert_exporter": "python",
   "pygments_lexer": "ipython3",
   "version": "3.11.5"
  }
 },
 "nbformat": 4,
 "nbformat_minor": 5
}
