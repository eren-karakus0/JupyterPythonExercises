{
 "cells": [
  {
   "cell_type": "code",
   "execution_count": 1,
   "id": "f55b5f73",
   "metadata": {},
   "outputs": [
    {
     "data": {
      "text/plain": [
       "True"
      ]
     },
     "execution_count": 1,
     "metadata": {},
     "output_type": "execute_result"
    }
   ],
   "source": [
    "# 1) Aşağıdaki kodun çıktısı ne olacaktır?\n",
    "x = 5\n",
    "y = 3\n",
    "z = 6\n",
    "x > y and z > x"
   ]
  },
  {
   "cell_type": "code",
   "execution_count": 1,
   "id": "a10a65ef",
   "metadata": {},
   "outputs": [],
   "source": [
    "age_name_list = [(\"Ahmet\",30),(\"Ayse\",24),(\"Mehmet\",40),(\"Fatma\",29)]"
   ]
  },
  {
   "cell_type": "code",
   "execution_count": 2,
   "id": "cada94f1",
   "metadata": {},
   "outputs": [],
   "source": [
    "new_age_list = []\n",
    "for (name,age) in age_name_list:\n",
    "    new_age_list.append(age)"
   ]
  },
  {
   "cell_type": "code",
   "execution_count": 17,
   "id": "5ab809f0",
   "metadata": {},
   "outputs": [
    {
     "name": "stdout",
     "output_type": "stream",
     "text": [
      "['a'] elemanı anahtarların içinde\n"
     ]
    }
   ],
   "source": [
    "my_other_dictionary = {\"b\":203,\"c\":\"a\",\"a\":400,\"d\":\"f\"}\n",
    "key = []\n",
    "for i in my_other_dictionary.keys():\n",
    "    if i ==\"a\":\n",
    "        key.append(i)\n",
    "print(key, \"elemanı anahtarların içinde\")"
   ]
  },
  {
   "cell_type": "code",
   "execution_count": 15,
   "id": "9e8f46d7",
   "metadata": {},
   "outputs": [
    {
     "name": "stdout",
     "output_type": "stream",
     "text": [
      "Tek sayılar:  [1, 3, 5, 19, 21, 1111, 23]\n",
      "Çift sayılar:  [2, 4, 6, 20, 32, 20, 24]\n"
     ]
    }
   ],
   "source": [
    "my_numbers = [1,2,3,4,5,6,19,20,32,21,20,1111,23,24]\n",
    "tek = []\n",
    "cift = []\n",
    "for i in my_numbers:\n",
    "    if i % 2 == 0:\n",
    "        cift.append(i)\n",
    "    else:\n",
    "        tek.append(i)\n",
    "print(\"Tek sayılar: \",tek)\n",
    "print(\"Çift sayılar: \",cift)"
   ]
  },
  {
   "cell_type": "code",
   "execution_count": 18,
   "id": "4400a6d0",
   "metadata": {},
   "outputs": [
    {
     "name": "stdout",
     "output_type": "stream",
     "text": [
      "[18.84, 12.56, 31.400000000000002, 50.24, 25.12, 37.68, 56.52, 75.36]\n"
     ]
    }
   ],
   "source": [
    "r_list = [3,2,5,8,4,6,9,12]\n",
    "cevre_list = []\n",
    "for i in r_list:\n",
    "    cevre_list.append(2 * 3.14 * i)\n",
    "print(cevre_list)"
   ]
  },
  {
   "cell_type": "code",
   "execution_count": 33,
   "id": "d3881721",
   "metadata": {},
   "outputs": [
    {
     "data": {
      "text/plain": [
       "[False, False, True, False, True, True, False, True]"
      ]
     },
     "execution_count": 33,
     "metadata": {},
     "output_type": "execute_result"
    }
   ],
   "source": [
    "number_list = [5,7,18,21,20,10,405,24]\n",
    "[num % 2 == 0 for num in number_list]"
   ]
  },
  {
   "cell_type": "code",
   "execution_count": 37,
   "id": "7263d2ea",
   "metadata": {},
   "outputs": [
    {
     "name": "stdout",
     "output_type": "stream",
     "text": [
      "[30, 24, 40, 29]\n"
     ]
    }
   ],
   "source": [
    "age_name_list = [(\"Ahmet\",30),(\"Ayse\",24),(\"Mehmet\",40),(\"Fatma\",29)]\n",
    "listem = []\n",
    "for (name,age) in age_name_list:\n",
    "        listem.append(age)\n",
    "print(listem)"
   ]
  },
  {
   "cell_type": "code",
   "execution_count": 45,
   "id": "c6ea0aeb",
   "metadata": {},
   "outputs": [
    {
     "data": {
      "text/plain": [
       "'Iron Maiden'"
      ]
     },
     "execution_count": 45,
     "metadata": {},
     "output_type": "execute_result"
    }
   ],
   "source": [
    "from random import randint\n",
    "metal_list = [\"Metallica\",\"Iron Maiden\",\"Dream Theater\",\"Megadeth\",\"AC/DC\"]\n",
    "metal_list[randint(0,len(metal_list)-1)]"
   ]
  },
  {
   "cell_type": "code",
   "execution_count": null,
   "id": "a4bbfc63",
   "metadata": {},
   "outputs": [],
   "source": []
  }
 ],
 "metadata": {
  "kernelspec": {
   "display_name": "Python 3 (ipykernel)",
   "language": "python",
   "name": "python3"
  },
  "language_info": {
   "codemirror_mode": {
    "name": "ipython",
    "version": 3
   },
   "file_extension": ".py",
   "mimetype": "text/x-python",
   "name": "python",
   "nbconvert_exporter": "python",
   "pygments_lexer": "ipython3",
   "version": "3.11.5"
  }
 },
 "nbformat": 4,
 "nbformat_minor": 5
}
