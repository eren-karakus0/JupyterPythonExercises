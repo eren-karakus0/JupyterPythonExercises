{
 "cells": [
  {
   "cell_type": "markdown",
   "id": "934df40c",
   "metadata": {},
   "source": [
    "# hataları ele almak"
   ]
  },
  {
   "cell_type": "code",
   "execution_count": 2,
   "id": "16d656b6",
   "metadata": {},
   "outputs": [
    {
     "name": "stdout",
     "output_type": "stream",
     "text": [
      "Enter age: 45\n"
     ]
    }
   ],
   "source": [
    "age = input(\"Enter age: \")"
   ]
  },
  {
   "cell_type": "code",
   "execution_count": 3,
   "id": "464f5800",
   "metadata": {},
   "outputs": [
    {
     "data": {
      "text/plain": [
       "'45'"
      ]
     },
     "execution_count": 3,
     "metadata": {},
     "output_type": "execute_result"
    }
   ],
   "source": [
    "age"
   ]
  },
  {
   "cell_type": "code",
   "execution_count": 4,
   "id": "f28785d9",
   "metadata": {},
   "outputs": [
    {
     "data": {
      "text/plain": [
       "90"
      ]
     },
     "execution_count": 4,
     "metadata": {},
     "output_type": "execute_result"
    }
   ],
   "source": [
    "int(age) * 2"
   ]
  },
  {
   "cell_type": "code",
   "execution_count": 5,
   "id": "d8edfdfc",
   "metadata": {},
   "outputs": [],
   "source": [
    "# try - except"
   ]
  },
  {
   "cell_type": "code",
   "execution_count": 11,
   "id": "aa08a7fd",
   "metadata": {},
   "outputs": [
    {
     "name": "stdout",
     "output_type": "stream",
     "text": [
      "Enter age: eren\n",
      "Enter your age!!!\n",
      "finally\n",
      "Enter age: karakus\n",
      "Enter your age!!!\n",
      "finally\n",
      "Enter age: 19\n",
      "38\n",
      "finally\n"
     ]
    }
   ],
   "source": [
    "while True:\n",
    "    try:\n",
    "        myAge = int(input(\"Enter age: \"))\n",
    "        print(myAge * 2)\n",
    "        break\n",
    "    except:\n",
    "        print(\"Enter your age!!!\")\n",
    "    else:\n",
    "        print(\"else executed\")\n",
    "        #break\n",
    "    finally:\n",
    "        print(\"finally\")"
   ]
  },
  {
   "cell_type": "code",
   "execution_count": null,
   "id": "987d9595",
   "metadata": {},
   "outputs": [],
   "source": []
  }
 ],
 "metadata": {
  "kernelspec": {
   "display_name": "Python 3 (ipykernel)",
   "language": "python",
   "name": "python3"
  },
  "language_info": {
   "codemirror_mode": {
    "name": "ipython",
    "version": 3
   },
   "file_extension": ".py",
   "mimetype": "text/x-python",
   "name": "python",
   "nbconvert_exporter": "python",
   "pygments_lexer": "ipython3",
   "version": "3.11.5"
  }
 },
 "nbformat": 4,
 "nbformat_minor": 5
}
