{
 "cells": [
  {
   "cell_type": "code",
   "execution_count": 1,
   "id": "215ea178",
   "metadata": {},
   "outputs": [
    {
     "name": "stdout",
     "output_type": "stream",
     "text": [
      "3 4\n",
      "None\n"
     ]
    }
   ],
   "source": [
    "def toplama(a,b):\n",
    "    print(a,b)\n",
    "\n",
    "x = toplama(3,4)\n",
    "print(x)\n",
    "\n"
   ]
  },
  {
   "cell_type": "code",
   "execution_count": 2,
   "id": "aa1455e7",
   "metadata": {},
   "outputs": [
    {
     "name": "stdout",
     "output_type": "stream",
     "text": [
      "16\n"
     ]
    }
   ],
   "source": [
    "def usselIslem(x=5,y=3):\n",
    "    print(x ** y)\n",
    "usselIslem(2,4)\n",
    "# 2 ** 4 --> iki üssü 4 "
   ]
  },
  {
   "cell_type": "code",
   "execution_count": 4,
   "id": "bb51cc2b",
   "metadata": {},
   "outputs": [
    {
     "name": "stdout",
     "output_type": "stream",
     "text": [
      "125\n"
     ]
    }
   ],
   "source": [
    "usselIslem() #5 ve 3 değerleri fonksiyon içinde verildiği için fonksiyonu boş şekilde çağırdığımızda\n",
    "# içindeki 5 ve 3 değerlerini kullanır.\n",
    "# usselIslem(2,4) gibi değer verilerek çağırırsem verdiğim değerleri kullanır"
   ]
  },
  {
   "cell_type": "code",
   "execution_count": 8,
   "id": "1db3f2c6",
   "metadata": {},
   "outputs": [
    {
     "name": "stdout",
     "output_type": "stream",
     "text": [
      "1.5\n",
      "1.0\n",
      "0.5\n",
      "2.5\n",
      "1.5\n",
      "2.0\n",
      "44.5\n"
     ]
    }
   ],
   "source": [
    "def myLoop(*args):\n",
    "    for element in args:\n",
    "        print(element / 2)\n",
    "myLoop(3,2,1,5,3,4,89)\n",
    "# *args istediğim kadar değer girmemi sağlıyordu 89 u ekstra girdim"
   ]
  },
  {
   "cell_type": "code",
   "execution_count": 26,
   "id": "a01b5655",
   "metadata": {},
   "outputs": [
    {
     "name": "stdout",
     "output_type": "stream",
     "text": [
      "[8, 27, 64, 125, 216]\n"
     ]
    },
    {
     "data": {
      "text/plain": [
       "[8, 27, 64, 125, 216]"
      ]
     },
     "execution_count": 26,
     "metadata": {},
     "output_type": "execute_result"
    }
   ],
   "source": [
    "def myFunc(num):\n",
    "    return num ** 3\n",
    "myList = [2,3,4,5,6]\n",
    "newList = []\n",
    "for i in myList:\n",
    "    newList.append(myFunc(i))\n",
    "print(newList)\n",
    "# yapılan işlemlerin kısa hali map fonksiyonu \n",
    "list(map(myFunc,myList))"
   ]
  },
  {
   "cell_type": "code",
   "execution_count": 28,
   "id": "e142cf1c",
   "metadata": {},
   "outputs": [
    {
     "data": {
      "text/plain": [
       "['SA3123XYZ', 'XYZA123Q']"
      ]
     },
     "execution_count": 28,
     "metadata": {},
     "output_type": "execute_result"
    }
   ],
   "source": [
    "barkodDizisi = [\"ABC231\",\"SA3123XYZ\",\"XYZA123Q\",\"QRE1231KJ\",\"X112QGL\"]\n",
    "list(filter(lambda string : \"XYZ\" in string,barkodDizisi))\n",
    "# labmda yeni bir fonksiyon yazmadan işlemleri kısa yoldan yapmamızı sağlar\n",
    "# filter de verilen öncülleri bizim için filtreler ve list ile de yazdırırız"
   ]
  },
  {
   "cell_type": "code",
   "execution_count": 20,
   "id": "b7014e8f",
   "metadata": {},
   "outputs": [
    {
     "name": "stdout",
     "output_type": "stream",
     "text": [
      "Atil\n"
     ]
    }
   ],
   "source": [
    "myVar = \"Atil Samancioglu\"\n",
    "\n",
    "def ornekFonksiyon():\n",
    "    myVar = \"Atil\"\n",
    "    \n",
    "    def digerFonksiyon():\n",
    "        print(myVar)\n",
    "    \n",
    "    digerFonksiyon()\n",
    "\n",
    "ornekFonksiyon()"
   ]
  },
  {
   "cell_type": "code",
   "execution_count": 21,
   "id": "6ef645ec",
   "metadata": {},
   "outputs": [
    {
     "data": {
      "text/plain": [
       "15"
      ]
     },
     "execution_count": 21,
     "metadata": {},
     "output_type": "execute_result"
    }
   ],
   "source": [
    "class Kedi():\n",
    "        \n",
    "    def __init__(self,isim,yas=5):\n",
    "        self.isim = isim\n",
    "        self.yas = yas\n",
    "        \n",
    "    def yasiCarp(self):\n",
    "        return self.yas * 3\n",
    "kedim = Kedi(\"Tonton\")\n",
    "kedim.yasiCarp()"
   ]
  },
  {
   "cell_type": "code",
   "execution_count": 22,
   "id": "75d68e5e",
   "metadata": {},
   "outputs": [
    {
     "name": "stdout",
     "output_type": "stream",
     "text": [
      "Mehmet sınav notu: 85\n"
     ]
    }
   ],
   "source": [
    "class Ogrenci():\n",
    "    \n",
    "    def __init__(self,isim,sinavNotu):\n",
    "        self.isim = isim\n",
    "        self.__sinavNotu = sinavNotu #değiştirilemez encapsulation\n",
    "    \n",
    "    def notuGoster(self):\n",
    "        print(f\"{self.isim} sınav notu: {self.__sinavNotu}\")\n",
    "ogrenci = Ogrenci(\"Mehmet\",85)\n",
    "ogrenci.__sinavNotu = 75\n",
    "ogrenci.notuGoster()"
   ]
  },
  {
   "cell_type": "code",
   "execution_count": 23,
   "id": "bdce9f22",
   "metadata": {},
   "outputs": [],
   "source": [
    "#Soyut sınıflar ve methodlar oluşturmamıza olanak tanıyan, kodlarımızı daha planlı şekilde yazmamızı mümkün kılan\n",
    "# aynı zamanda büyük projelerde bize yapısal olarak fayda sağlayabilecek OOP prensibinin adı nedir?\n",
    "# ABSTRACTİON"
   ]
  },
  {
   "cell_type": "code",
   "execution_count": null,
   "id": "870adfa2",
   "metadata": {},
   "outputs": [],
   "source": []
  }
 ],
 "metadata": {
  "kernelspec": {
   "display_name": "Python 3 (ipykernel)",
   "language": "python",
   "name": "python3"
  },
  "language_info": {
   "codemirror_mode": {
    "name": "ipython",
    "version": 3
   },
   "file_extension": ".py",
   "mimetype": "text/x-python",
   "name": "python",
   "nbconvert_exporter": "python",
   "pygments_lexer": "ipython3",
   "version": "3.11.5"
  }
 },
 "nbformat": 4,
 "nbformat_minor": 5
}
