{
 "cells": [
  {
   "cell_type": "code",
   "execution_count": 7,
   "id": "64d8d3f5",
   "metadata": {},
   "outputs": [
    {
     "name": "stdout",
     "output_type": "stream",
     "text": [
      "İsiminizi giriniz: Eren\n",
      "Soyisminizi giriniz: Karakuş\n",
      "Yaşnızı giriniz: 19\n",
      "Eren isim Karakuş soyisimli kişi 19 yaşındadır\n"
     ]
    }
   ],
   "source": [
    "x = input(\"İsiminizi giriniz: \")\n",
    "y = input(\"Soyisminizi giriniz: \")\n",
    "z = input(\"Yaşınızı giriniz: \")\n",
    "print(x,\"isim\",y,\"soyisimli kişi\",z,\"yaşındadır\")"
   ]
  },
  {
   "cell_type": "code",
   "execution_count": 9,
   "id": "b3bb145d",
   "metadata": {},
   "outputs": [
    {
     "name": "stdout",
     "output_type": "stream",
     "text": [
      "Bir sayı giriniz: 5\n",
      "100\n"
     ]
    }
   ],
   "source": [
    "x = int(input(\"Bir sayı giriniz: \"))\n",
    "output = (x*x*x)-(5*x)\n",
    "print(output)"
   ]
  },
  {
   "cell_type": "code",
   "execution_count": 32,
   "id": "81cbc6ee",
   "metadata": {},
   "outputs": [
    {
     "ename": "SyntaxError",
     "evalue": "invalid syntax (129482936.py, line 10)",
     "output_type": "error",
     "traceback": [
      "\u001b[1;36m  Cell \u001b[1;32mIn[32], line 10\u001b[1;36m\u001b[0m\n\u001b[1;33m    elif delta < 0:\u001b[0m\n\u001b[1;37m    ^\u001b[0m\n\u001b[1;31mSyntaxError\u001b[0m\u001b[1;31m:\u001b[0m invalid syntax\n"
     ]
    }
   ],
   "source": [
    "a = int(input(\"a: \"))\n",
    "b = int(input(\"b: \"))\n",
    "c = int(input(\"c: \"))\n",
    "\n",
    "delta =(b*b)-(4*a*c)\n",
    "if delta>0:\n",
    "    x1 = ((-b)+math.sqrt(delta))/(2*a)\n",
    "    x2 = ((-b)-math.sqrt(delta))/(2*a)\n",
    "    print(f\"x1: {x1}\\nx2: {x2}\")\n",
    "    elif delta < 0:\n",
    "        print(\"Kök yok\")\n",
    "    elif delta == 0:\n",
    "            x = (-b)/(2*a)\n",
    "            print(\"x: \",x)"
   ]
  },
  {
   "cell_type": "code",
   "execution_count": null,
   "id": "298d6b90",
   "metadata": {},
   "outputs": [],
   "source": [
    "sayi = int(input(\"Sayıyı giriniz: \"))\n",
    "ters = 0\n",
    "while(sayi > )"
   ]
  },
  {
   "cell_type": "code",
   "execution_count": 35,
   "id": "de3cdb65",
   "metadata": {},
   "outputs": [
    {
     "name": "stdout",
     "output_type": "stream",
     "text": [
      "6\n",
      "28\n",
      "496\n"
     ]
    }
   ],
   "source": [
    "for i in range(1,1000):\n",
    "    toplam = 0\n",
    "    for j in range(1,i):\n",
    "        if(i%j == 0):\n",
    "            toplam += j\n",
    "            \n",
    "    if(i == toplam ):\n",
    "                print(i)"
   ]
  }
 ],
 "metadata": {
  "kernelspec": {
   "display_name": "Python 3 (ipykernel)",
   "language": "python",
   "name": "python3"
  },
  "language_info": {
   "codemirror_mode": {
    "name": "ipython",
    "version": 3
   },
   "file_extension": ".py",
   "mimetype": "text/x-python",
   "name": "python",
   "nbconvert_exporter": "python",
   "pygments_lexer": "ipython3",
   "version": "3.11.5"
  }
 },
 "nbformat": 4,
 "nbformat_minor": 5
}
