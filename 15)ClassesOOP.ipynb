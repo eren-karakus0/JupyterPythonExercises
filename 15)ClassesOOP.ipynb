{
 "cells": [
  {
   "cell_type": "code",
   "execution_count": 31,
   "id": "e0c2d1bb",
   "metadata": {},
   "outputs": [],
   "source": [
    "class Person():\n",
    "    #property\n",
    "    # pythonad bunları yazmana gerek yok self ile anlıyor zaten\n",
    "    #name = \"\"\n",
    "    #age = 0\n",
    "    #gender = \"\"\n",
    "    \n",
    "    # method, initializer değerini atamak constructor\n",
    "    def __init__(self,name,age,gender):\n",
    "        self.name = name\n",
    "        self.age = age\n",
    "        self.gender = gender"
   ]
  },
  {
   "cell_type": "code",
   "execution_count": 32,
   "id": "d86f9928",
   "metadata": {},
   "outputs": [],
   "source": [
    "atil = Person(\"Atil\",35,\"Male\")"
   ]
  },
  {
   "cell_type": "code",
   "execution_count": 33,
   "id": "8ab743d9",
   "metadata": {},
   "outputs": [
    {
     "data": {
      "text/plain": [
       "__main__.Person"
      ]
     },
     "execution_count": 33,
     "metadata": {},
     "output_type": "execute_result"
    }
   ],
   "source": [
    "type(atil)"
   ]
  },
  {
   "cell_type": "code",
   "execution_count": 34,
   "id": "a190b54c",
   "metadata": {},
   "outputs": [
    {
     "data": {
      "text/plain": [
       "'Atil'"
      ]
     },
     "execution_count": 34,
     "metadata": {},
     "output_type": "execute_result"
    }
   ],
   "source": [
    "atil.name"
   ]
  },
  {
   "cell_type": "code",
   "execution_count": 35,
   "id": "668a5762",
   "metadata": {},
   "outputs": [
    {
     "data": {
      "text/plain": [
       "35"
      ]
     },
     "execution_count": 35,
     "metadata": {},
     "output_type": "execute_result"
    }
   ],
   "source": [
    "atil.age"
   ]
  },
  {
   "cell_type": "code",
   "execution_count": 36,
   "id": "a14d0c9f",
   "metadata": {},
   "outputs": [
    {
     "data": {
      "text/plain": [
       "'Male'"
      ]
     },
     "execution_count": 36,
     "metadata": {},
     "output_type": "execute_result"
    }
   ],
   "source": [
    "atil.gender"
   ]
  },
  {
   "cell_type": "code",
   "execution_count": 26,
   "id": "d2f68776",
   "metadata": {},
   "outputs": [],
   "source": [
    "class Dog():\n",
    "    year = 7\n",
    "    def __init__(self,age):\n",
    "        self.age = age\n",
    "        self.dogHumanAge = age * self.year\n",
    "        print(\"Dog instance\")\n",
    "        \n",
    "    def humanAge(self):\n",
    "        return self.age * Dog.year #Dog.year = self.year"
   ]
  },
  {
   "cell_type": "code",
   "execution_count": 27,
   "id": "05ae2fc8",
   "metadata": {},
   "outputs": [
    {
     "name": "stdout",
     "output_type": "stream",
     "text": [
      "Dog instance\n"
     ]
    }
   ],
   "source": [
    "myDog = Dog(3)"
   ]
  },
  {
   "cell_type": "code",
   "execution_count": 28,
   "id": "110ff3d7",
   "metadata": {},
   "outputs": [
    {
     "data": {
      "text/plain": [
       "3"
      ]
     },
     "execution_count": 28,
     "metadata": {},
     "output_type": "execute_result"
    }
   ],
   "source": [
    "myDog.age"
   ]
  },
  {
   "cell_type": "code",
   "execution_count": 29,
   "id": "1eec089e",
   "metadata": {},
   "outputs": [
    {
     "data": {
      "text/plain": [
       "21"
      ]
     },
     "execution_count": 29,
     "metadata": {},
     "output_type": "execute_result"
    }
   ],
   "source": [
    "myDog.humanAge()"
   ]
  },
  {
   "cell_type": "code",
   "execution_count": 30,
   "id": "34632139",
   "metadata": {},
   "outputs": [
    {
     "data": {
      "text/plain": [
       "21"
      ]
     },
     "execution_count": 30,
     "metadata": {},
     "output_type": "execute_result"
    }
   ],
   "source": [
    "myDog.dogHumanAge"
   ]
  },
  {
   "cell_type": "code",
   "execution_count": null,
   "id": "0ebc89b4",
   "metadata": {},
   "outputs": [],
   "source": []
  }
 ],
 "metadata": {
  "kernelspec": {
   "display_name": "Python 3 (ipykernel)",
   "language": "python",
   "name": "python3"
  },
  "language_info": {
   "codemirror_mode": {
    "name": "ipython",
    "version": 3
   },
   "file_extension": ".py",
   "mimetype": "text/x-python",
   "name": "python",
   "nbconvert_exporter": "python",
   "pygments_lexer": "ipython3",
   "version": "3.11.5"
  }
 },
 "nbformat": 4,
 "nbformat_minor": 5
}
