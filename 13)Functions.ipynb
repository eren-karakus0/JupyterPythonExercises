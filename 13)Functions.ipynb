{
 "cells": [
  {
   "cell_type": "code",
   "execution_count": 1,
   "id": "f98214de",
   "metadata": {},
   "outputs": [],
   "source": [
    "# method function"
   ]
  },
  {
   "cell_type": "code",
   "execution_count": 2,
   "id": "cbc8979b",
   "metadata": {},
   "outputs": [],
   "source": [
    "my_name = \"atil\""
   ]
  },
  {
   "cell_type": "code",
   "execution_count": 3,
   "id": "397d81b4",
   "metadata": {},
   "outputs": [
    {
     "data": {
      "text/plain": [
       "'ATIL'"
      ]
     },
     "execution_count": 3,
     "metadata": {},
     "output_type": "execute_result"
    }
   ],
   "source": [
    "my_name.upper()"
   ]
  },
  {
   "cell_type": "code",
   "execution_count": 4,
   "id": "f879f2ec",
   "metadata": {},
   "outputs": [
    {
     "data": {
      "text/plain": [
       "'atil'"
      ]
     },
     "execution_count": 4,
     "metadata": {},
     "output_type": "execute_result"
    }
   ],
   "source": [
    "my_name"
   ]
  },
  {
   "cell_type": "code",
   "execution_count": 5,
   "id": "f358383b",
   "metadata": {},
   "outputs": [],
   "source": [
    "my_name_upper = my_name.upper()"
   ]
  },
  {
   "cell_type": "code",
   "execution_count": 6,
   "id": "46ad7953",
   "metadata": {},
   "outputs": [
    {
     "data": {
      "text/plain": [
       "'ATIL'"
      ]
     },
     "execution_count": 6,
     "metadata": {},
     "output_type": "execute_result"
    }
   ],
   "source": [
    "my_name_upper"
   ]
  },
  {
   "cell_type": "code",
   "execution_count": 7,
   "id": "fc914d61",
   "metadata": {},
   "outputs": [
    {
     "name": "stdout",
     "output_type": "stream",
     "text": [
      "Help on built-in function upper:\n",
      "\n",
      "upper() method of builtins.str instance\n",
      "    Return a copy of the string converted to uppercase.\n",
      "\n"
     ]
    }
   ],
   "source": [
    "help(my_name.upper)"
   ]
  },
  {
   "cell_type": "code",
   "execution_count": 8,
   "id": "83d83973",
   "metadata": {},
   "outputs": [],
   "source": [
    "# functions"
   ]
  },
  {
   "cell_type": "code",
   "execution_count": 11,
   "id": "e06ae68c",
   "metadata": {},
   "outputs": [
    {
     "name": "stdout",
     "output_type": "stream",
     "text": [
      "hello\n",
      "python\n"
     ]
    }
   ],
   "source": [
    "def hello_python():\n",
    "    print(\"hello\")\n",
    "    print(\"python\")\n",
    "hello_python()"
   ]
  },
  {
   "cell_type": "code",
   "execution_count": 12,
   "id": "6d18a7cf",
   "metadata": {},
   "outputs": [],
   "source": [
    "# input"
   ]
  },
  {
   "cell_type": "code",
   "execution_count": 14,
   "id": "0ea6dacc",
   "metadata": {},
   "outputs": [
    {
     "name": "stdout",
     "output_type": "stream",
     "text": [
      "hello\n",
      "eren\n"
     ]
    }
   ],
   "source": [
    "def hello_name(name):\n",
    "    print(\"hello\")\n",
    "    print(name)\n",
    "hello_name(\"eren\")"
   ]
  },
  {
   "cell_type": "code",
   "execution_count": 16,
   "id": "30511804",
   "metadata": {},
   "outputs": [
    {
     "name": "stdout",
     "output_type": "stream",
     "text": [
      "15\n"
     ]
    }
   ],
   "source": [
    "def sum_Exaple(num1 , num2): #sum toplama fonksiyonudur\n",
    "    print(num1 + num2)\n",
    "sum_Exaple(5,10)"
   ]
  },
  {
   "cell_type": "code",
   "execution_count": 18,
   "id": "3dac2a88",
   "metadata": {},
   "outputs": [
    {
     "name": "stdout",
     "output_type": "stream",
     "text": [
      "hello\n",
      "sam\n",
      "hello\n",
      "karakus\n"
     ]
    }
   ],
   "source": [
    "def hello_surname(surname = \"karakus\"): \n",
    "    print(\"hello\")\n",
    "    print(surname)\n",
    "hello_surname(\"sam\")\n",
    "hello_surname()\n",
    "# fonksiyon içinde default olarak değer verenilirsin"
   ]
  },
  {
   "cell_type": "code",
   "execution_count": 19,
   "id": "f6894ab7",
   "metadata": {},
   "outputs": [],
   "source": [
    "#return"
   ]
  },
  {
   "cell_type": "code",
   "execution_count": 21,
   "id": "6d5eb6f9",
   "metadata": {},
   "outputs": [
    {
     "data": {
      "text/plain": [
       "15"
      ]
     },
     "execution_count": 21,
     "metadata": {},
     "output_type": "execute_result"
    }
   ],
   "source": [
    "def summation(num1,num2,num3):\n",
    "    x = (num1 + num2 + num3)\n",
    "    return x\n",
    "summation(5,8,2)"
   ]
  },
  {
   "cell_type": "code",
   "execution_count": 23,
   "id": "6f0a5919",
   "metadata": {},
   "outputs": [
    {
     "name": "stdout",
     "output_type": "stream",
     "text": [
      "a\n"
     ]
    }
   ],
   "source": [
    "def control_string(s):\n",
    "    if s[0] == \"a\":\n",
    "        print(\"a\")\n",
    "control_string(\"atlas\")\n",
    "control_string(\"eren\")"
   ]
  },
  {
   "cell_type": "code",
   "execution_count": 24,
   "id": "5bbec62c",
   "metadata": {},
   "outputs": [],
   "source": [
    "#args , kwargs (arguments , key word arguments)"
   ]
  },
  {
   "cell_type": "code",
   "execution_count": 25,
   "id": "3163f26a",
   "metadata": {},
   "outputs": [],
   "source": [
    "def args_sum(*args): # args istediğin kadar sayı girmeni sağlar\n",
    "    return sum(args)"
   ]
  },
  {
   "cell_type": "code",
   "execution_count": 26,
   "id": "8b936726",
   "metadata": {},
   "outputs": [
    {
     "data": {
      "text/plain": [
       "150"
      ]
     },
     "execution_count": 26,
     "metadata": {},
     "output_type": "execute_result"
    }
   ],
   "source": [
    "args_sum(10,20,30,40,50)"
   ]
  },
  {
   "cell_type": "code",
   "execution_count": 27,
   "id": "d8b14847",
   "metadata": {},
   "outputs": [
    {
     "name": "stdout",
     "output_type": "stream",
     "text": [
      "(13512, 516485, 'asda')\n"
     ]
    }
   ],
   "source": [
    "def args_examples(*args):\n",
    "    print(args)\n",
    "args_examples(13512,516485,\"asda\")"
   ]
  },
  {
   "cell_type": "code",
   "execution_count": 28,
   "id": "ddd7da48",
   "metadata": {},
   "outputs": [
    {
     "name": "stdout",
     "output_type": "stream",
     "text": [
      "{'apple': 100, 'banana': 150, 'melon': 200}\n"
     ]
    }
   ],
   "source": [
    "def kwargs_example(**kwargs):\n",
    "    print(kwargs)\n",
    "kwargs_example(apple = 100,banana = 150, melon = 200)"
   ]
  },
  {
   "cell_type": "code",
   "execution_count": 34,
   "id": "e5aeb548",
   "metadata": {},
   "outputs": [
    {
     "name": "stdout",
     "output_type": "stream",
     "text": [
      "appleeeeeeeee\n",
      ":(\n"
     ]
    }
   ],
   "source": [
    "def kwargs_example_2(**kwargs):\n",
    "    if \"apple\" in kwargs:\n",
    "        print(\"appleeeeeeeee\")\n",
    "    else:\n",
    "        print(\":(\")\n",
    "kwargs_example_2(apple = 10 , banana = 15)\n",
    "kwargs_example_2(banan = 111)"
   ]
  },
  {
   "cell_type": "code",
   "execution_count": null,
   "id": "264bca3e",
   "metadata": {},
   "outputs": [],
   "source": []
  }
 ],
 "metadata": {
  "kernelspec": {
   "display_name": "Python 3 (ipykernel)",
   "language": "python",
   "name": "python3"
  },
  "language_info": {
   "codemirror_mode": {
    "name": "ipython",
    "version": 3
   },
   "file_extension": ".py",
   "mimetype": "text/x-python",
   "name": "python",
   "nbconvert_exporter": "python",
   "pygments_lexer": "ipython3",
   "version": "3.11.5"
  }
 },
 "nbformat": 4,
 "nbformat_minor": 5
}
