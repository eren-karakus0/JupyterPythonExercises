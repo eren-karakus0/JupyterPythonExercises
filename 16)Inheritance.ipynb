{
 "cells": [
  {
   "cell_type": "markdown",
   "id": "4f2c704e",
   "metadata": {},
   "source": [
    "# kalıtım"
   ]
  },
  {
   "cell_type": "code",
   "execution_count": 1,
   "id": "71a2e752",
   "metadata": {},
   "outputs": [],
   "source": [
    "class Mucisian():\n",
    "    \n",
    "    def __init__(self,name):\n",
    "        self.name = name\n",
    "        print(\"Mucisian class\")\n",
    "    \n",
    "    def test1(self):\n",
    "        print(\"Test1\")\n",
    "    \n",
    "    def test2(self):\n",
    "        print(\"Test2\")"
   ]
  },
  {
   "cell_type": "code",
   "execution_count": 3,
   "id": "38b69baa",
   "metadata": {},
   "outputs": [
    {
     "name": "stdout",
     "output_type": "stream",
     "text": [
      "Mucisian class\n"
     ]
    }
   ],
   "source": [
    "atil = Mucisian(\"Atil\")"
   ]
  },
  {
   "cell_type": "code",
   "execution_count": 4,
   "id": "b1917066",
   "metadata": {},
   "outputs": [
    {
     "data": {
      "text/plain": [
       "'Atil'"
      ]
     },
     "execution_count": 4,
     "metadata": {},
     "output_type": "execute_result"
    }
   ],
   "source": [
    "atil.name"
   ]
  },
  {
   "cell_type": "code",
   "execution_count": 6,
   "id": "0c84d660",
   "metadata": {},
   "outputs": [
    {
     "name": "stdout",
     "output_type": "stream",
     "text": [
      "Test1\n"
     ]
    }
   ],
   "source": [
    "atil.test1()"
   ]
  },
  {
   "cell_type": "code",
   "execution_count": 8,
   "id": "634aa2bf",
   "metadata": {},
   "outputs": [
    {
     "name": "stdout",
     "output_type": "stream",
     "text": [
      "Test2\n"
     ]
    }
   ],
   "source": [
    "atil.test2()"
   ]
  },
  {
   "cell_type": "code",
   "execution_count": 20,
   "id": "3fb95294",
   "metadata": {},
   "outputs": [],
   "source": [
    "class MucisianPlus(Mucisian):\n",
    "    \n",
    "    def __init__(self,name):\n",
    "        Mucisian.__init__(self,name)\n",
    "        print(\"Mucisian plus\")\n",
    "    \n",
    "    def test3(self):\n",
    "        print(\"Test3\")\n",
    "        \n",
    "    def test1(self):\n",
    "        print(\"test1 test1 test1\")"
   ]
  },
  {
   "cell_type": "code",
   "execution_count": 21,
   "id": "caf1d2c2",
   "metadata": {},
   "outputs": [
    {
     "name": "stdout",
     "output_type": "stream",
     "text": [
      "Mucisian class\n",
      "Mucisian plus\n"
     ]
    }
   ],
   "source": [
    "atlas = MucisianPlus(\"Atlas\")"
   ]
  },
  {
   "cell_type": "code",
   "execution_count": 22,
   "id": "276c04b9",
   "metadata": {},
   "outputs": [
    {
     "name": "stdout",
     "output_type": "stream",
     "text": [
      "test1 test1 test1\n",
      "Test2\n"
     ]
    },
    {
     "data": {
      "text/plain": [
       "'Atlas'"
      ]
     },
     "execution_count": 22,
     "metadata": {},
     "output_type": "execute_result"
    }
   ],
   "source": [
    "atlas.test1()\n",
    "atlas.test2()\n",
    "atlas.name"
   ]
  },
  {
   "cell_type": "code",
   "execution_count": 23,
   "id": "a977d581",
   "metadata": {},
   "outputs": [],
   "source": [
    "atlas.name = \"Atil Samancioglu\""
   ]
  },
  {
   "cell_type": "code",
   "execution_count": 24,
   "id": "9b5510d4",
   "metadata": {},
   "outputs": [
    {
     "data": {
      "text/plain": [
       "'Atil Samancioglu'"
      ]
     },
     "execution_count": 24,
     "metadata": {},
     "output_type": "execute_result"
    }
   ],
   "source": [
    "atlas.name"
   ]
  },
  {
   "cell_type": "code",
   "execution_count": 25,
   "id": "dc9701c6",
   "metadata": {},
   "outputs": [
    {
     "data": {
      "text/plain": [
       "__main__.MucisianPlus"
      ]
     },
     "execution_count": 25,
     "metadata": {},
     "output_type": "execute_result"
    }
   ],
   "source": [
    "type(atlas)"
   ]
  },
  {
   "cell_type": "code",
   "execution_count": 26,
   "id": "66af958b",
   "metadata": {},
   "outputs": [
    {
     "name": "stdout",
     "output_type": "stream",
     "text": [
      "Test3\n"
     ]
    }
   ],
   "source": [
    "atlas.test3()"
   ]
  },
  {
   "cell_type": "code",
   "execution_count": 27,
   "id": "cd2abc7f",
   "metadata": {},
   "outputs": [
    {
     "name": "stdout",
     "output_type": "stream",
     "text": [
      "Test1\n"
     ]
    }
   ],
   "source": [
    "atil.test1()"
   ]
  },
  {
   "cell_type": "code",
   "execution_count": null,
   "id": "2b02c8ad",
   "metadata": {},
   "outputs": [],
   "source": []
  }
 ],
 "metadata": {
  "kernelspec": {
   "display_name": "Python 3 (ipykernel)",
   "language": "python",
   "name": "python3"
  },
  "language_info": {
   "codemirror_mode": {
    "name": "ipython",
    "version": 3
   },
   "file_extension": ".py",
   "mimetype": "text/x-python",
   "name": "python",
   "nbconvert_exporter": "python",
   "pygments_lexer": "ipython3",
   "version": "3.11.5"
  }
 },
 "nbformat": 4,
 "nbformat_minor": 5
}
