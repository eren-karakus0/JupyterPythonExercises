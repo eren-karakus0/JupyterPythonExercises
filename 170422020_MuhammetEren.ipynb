{
 "cells": [
  {
   "cell_type": "code",
   "execution_count": 1,
   "id": "73c65536",
   "metadata": {},
   "outputs": [
    {
     "name": "stdout",
     "output_type": "stream",
     "text": [
      "Dizi1:  [40, 8, 20, 37, 46, 36, 36, 40, 25, 31]\n",
      "Dizi2:  [27, 3, 5, 43, 33, 43, 15, 19, 29, 1]\n",
      "Birleştirilmiş , Ortak Elemanları Çıkarılmış ve Küçükten Büyüğe Sıralanmış Dizi:  [1, 3, 5, 8, 15, 19, 20, 25, 27, 29, 31, 33, 36, 37, 40, 43, 46]\n"
     ]
    }
   ],
   "source": [
    "import random\n",
    "\n",
    "dizi1 = [random.randint(1,50) for i in range(10)]\n",
    "dizi2 = [random.randint(1,50) for i in range(10)]\n",
    "\n",
    "birlesmis_dizi = []\n",
    "birlesmis_dizi = dizi1 + dizi2\n",
    "\n",
    "ortak_elemanlar = []\n",
    "for sayi in dizi1:\n",
    "    if sayi in dizi2:\n",
    "        ortak_elemanlar.append(sayi)\n",
    "        \n",
    "new_birlesmis_dizi = []\n",
    "for eleman in birlesmis_dizi:\n",
    "    if eleman not in new_birlesmis_dizi:\n",
    "        new_birlesmis_dizi.append(eleman)\n",
    "\n",
    "for i in range(len( new_birlesmis_dizi)):\n",
    "    for j in range(i + 1,len( new_birlesmis_dizi)):\n",
    "        if  new_birlesmis_dizi[i] >  new_birlesmis_dizi[j]:\n",
    "             new_birlesmis_dizi[i] ,  new_birlesmis_dizi[j] =  new_birlesmis_dizi[j] ,  new_birlesmis_dizi[i]\n",
    "            \n",
    "print(\"Dizi1: \",dizi1)\n",
    "print(\"Dizi2: \",dizi2)\n",
    "print(\"Birleştirilmiş , Ortak Elemanları Çıkarılmış ve Küçükten Büyüğe Sıralanmış Dizi: \",  new_birlesmis_dizi)"
   ]
  },
  {
   "cell_type": "code",
   "execution_count": 1,
   "id": "2ae99747",
   "metadata": {},
   "outputs": [
    {
     "name": "stdout",
     "output_type": "stream",
     "text": [
      "1 elemanından 2 tane bulundu.\n",
      "3 elemanından 3 tane bulundu.\n",
      "8 elemanından 2 tane bulundu.\n",
      "2 elemanından 2 tane bulundu.\n",
      "4 elemanından 2 tane bulundu.\n",
      "Yeni liste:  [6, 9, 8, 1, 2, 5, 4, 3]\n"
     ]
    }
   ],
   "source": [
    "Liste = [1, 2, 3, 3, 4, 6, 8, 9, 8, 1, 2, 5, 4, 3]\n",
    "\n",
    "for eleman in Liste:\n",
    "    tekrarSayisi = Liste.count(eleman)\n",
    "    if tekrarSayisi > 1:\n",
    "        print(f\"{eleman} elemanından {tekrarSayisi} tane var.\")\n",
    "        while Liste.count(eleman) > 1:\n",
    "            Liste.remove(eleman)\n",
    "\n",
    "\n",
    "print(\"Yeni liste: \", Liste)\n",
    "# Hocam remove kullanmadan yapamadım bir türlü"
   ]
  },
  {
   "cell_type": "code",
   "execution_count": 27,
   "id": "5161d50f",
   "metadata": {
    "scrolled": true
   },
   "outputs": [
    {
     "name": "stdout",
     "output_type": "stream",
     "text": [
      "Ahmet 6 yaşında Zeynep 4 yaşında Esra 2 yaşında Ayşe 1 yaşında\n"
     ]
    }
   ],
   "source": [
    "yazi = [\"Ahmet\", \"alti\", \"yaşında\", \"zeynep\", \"dort\", \"yaşında\", \"esra\", \"iki\", \"yaşında\", \"ayşe\", \"bir\", \"yaşında\"]\n",
    "numbers = {\"bir\": 1, \"iki\": 2, \"dort\": 4, \"alti\": 6}\n",
    "\n",
    "print(\"Ahmet\" ,numbers[\"alti\"], \"yaşında Zeynep\" ,numbers[\"dort\"], \"yaşında Esra\" ,numbers[\"iki\"], \"yaşında Ayşe\" ,numbers[\"bir\"], \"yaşında\")"
   ]
  },
  {
   "cell_type": "code",
   "execution_count": 11,
   "id": "1496c459",
   "metadata": {},
   "outputs": [
    {
     "name": "stdout",
     "output_type": "stream",
     "text": [
      "[1, 2, 3, 4, 5, 6, 7, 8, 9, 10, 11, 12]\n"
     ]
    }
   ],
   "source": [
    "def en_uzun_artan_sublist(liste):\n",
    "    uzunluk = len(liste)\n",
    "    en_uzun_sublist_uzunluğu = 0  \n",
    "    gecici_sublist_uzunlugu = 1  \n",
    "    en_uzun_sublist_baslangic_indexi = 0  \n",
    "    gecici_sublist_baslangic_indexi = 0 \n",
    "\n",
    "    for i in range(1, uzunluk):\n",
    "        if liste[i] > liste[i - 1]:\n",
    "            gecici_sublist_uzunlugu += 1\n",
    "        else:\n",
    "            gecici_sublist_uzunlugu = 1\n",
    "            gecici_sublist_baslangic_indexi = i\n",
    "\n",
    "        if gecici_sublist_uzunlugu > en_uzun_sublist_uzunluğu:\n",
    "            en_uzun_sublist_uzunluğu = gecici_sublist_uzunlugu\n",
    "            en_uzun_sublist_baslangic_indexi = gecici_sublist_baslangic_indexi\n",
    "\n",
    "    en_uzun_sublist = liste[en_uzun_sublist_baslangic_indexi:en_uzun_sublist_baslangic_indexi + en_uzun_sublist_uzunluğu]\n",
    "    return en_uzun_sublist\n",
    "\n",
    "\n",
    "liste = [1, 2, 3,4,5,6,7,8, 1, 2, 3, 4, 5, 6,7,8,9,10,11,12,5, 6, 7, 8]\n",
    "sonuc = en_uzun_artan_sublist(liste)\n",
    "print(sonuc)"
   ]
  },
  {
   "cell_type": "code",
   "execution_count": null,
   "id": "aaba78e9",
   "metadata": {},
   "outputs": [],
   "source": []
  }
 ],
 "metadata": {
  "kernelspec": {
   "display_name": "Python 3 (ipykernel)",
   "language": "python",
   "name": "python3"
  },
  "language_info": {
   "codemirror_mode": {
    "name": "ipython",
    "version": 3
   },
   "file_extension": ".py",
   "mimetype": "text/x-python",
   "name": "python",
   "nbconvert_exporter": "python",
   "pygments_lexer": "ipython3",
   "version": "3.11.5"
  }
 },
 "nbformat": 4,
 "nbformat_minor": 5
}
