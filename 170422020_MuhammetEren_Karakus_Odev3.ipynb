{
 "cells": [
  {
   "cell_type": "code",
   "execution_count": 15,
   "id": "4a2978a2",
   "metadata": {},
   "outputs": [
    {
     "name": "stdout",
     "output_type": "stream",
     "text": [
      "Metni giriniz: erenkarak ksu\n",
      "'e' harfi 2 kez geçiyor.\n",
      "'r' harfi 2 kez geçiyor.\n",
      "'n' harfi 1 kez geçiyor.\n",
      "'k' harfi 3 kez geçiyor.\n",
      "'a' harfi 2 kez geçiyor.\n",
      "'s' harfi 1 kez geçiyor.\n",
      "'u' harfi 1 kez geçiyor.\n"
     ]
    }
   ],
   "source": [
    "def harf_sayici(metin):\n",
    "    metin = metin.lower().replace(\" \", \"\")\n",
    "    \n",
    "    harf_sayilari = {}\n",
    "    \n",
    "    for harf in metin:\n",
    "        if harf in harf_sayilari:\n",
    "            harf_sayilari[harf] += 1\n",
    "        else:\n",
    "            harf_sayilari[harf] = 1\n",
    "    \n",
    "    return harf_sayilari\n",
    "\n",
    "girilen_metin = input(\"Metni giriniz: \")\n",
    "\n",
    "harf_sayilari = harf_sayici(girilen_metin)\n",
    "\n",
    "\n",
    "for harf, sayi in harf_sayilari.items():\n",
    "    print(f\"'{harf}' harfi {sayi} kez geçiyor.\")\n",
    "    "
   ]
  },
  {
   "cell_type": "code",
   "execution_count": 16,
   "id": "d434e0dd",
   "metadata": {},
   "outputs": [
    {
     "name": "stdout",
     "output_type": "stream",
     "text": [
      "--- Europe ---\n",
      "İstanbul: Ülke: Turkey, Kıta: Europe\n",
      "London: Ülke: United Kingdom, Kıta: Europe\n",
      "\n",
      "--- Asia ---\n",
      "Tokyo: Ülke: Japan, Kıta: Asia\n",
      "Mumbai: Ülke: India, Kıta: Asia\n",
      "Seoul: Ülke: South Korea, Kıta: Asia\n",
      "\n",
      "--- North America ---\n",
      "New_york: Ülke: United States, Kıta: North America\n",
      "\n",
      "--- Africa ---\n",
      "Cairo: Ülke: Egypt, Kıta: Africa\n",
      "\n"
     ]
    }
   ],
   "source": [
    "cities = {\n",
    "    'İstanbul': {'population': 15000000, 'continent': 'Europe', 'country': 'Turkey'},\n",
    "    'Tokyo': {'population': 37000000, 'continent': 'Asia', 'country': 'Japan'},\n",
    "    'New_york': {'population': 8400000, 'continent': 'North America', 'country': 'United States'},\n",
    "    'Mumbai': {'population': 20000000, 'continent': 'Asia', 'country': 'India'},\n",
    "    'Cairo': {'population': 20000000, 'continent': 'Africa', 'country': 'Egypt'},\n",
    "    'Seoul': {'population': 9765000, 'continent': 'Asia', 'country': 'South Korea'},\n",
    "    'London': {'population': 8908081, 'continent': 'Europe', 'country': 'United Kingdom'}\n",
    "}\n",
    "\n",
    "sehirler_sozlugu = {}\n",
    "for sehir, bilgi in cities.items():\n",
    "    kıta = bilgi['continent']\n",
    "    ulke = bilgi['country']\n",
    "    if kıta not in sehirler_sozlugu:\n",
    "        sehirler_sozlugu[kıta] = {}\n",
    "    sehirler_sozlugu[kıta][sehir] = {'ülke': ulke, 'kıta': kıta}\n",
    "\n",
    "def sehirleri_kitalara_gore_grupla(sehirler):\n",
    "    gruplu_sehirler = {}\n",
    "    for kıta, sehirler in sehirler_sozlugu.items():\n",
    "        if kıta not in gruplu_sehirler:\n",
    "            gruplu_sehirler[kıta] = sehirler\n",
    "    return gruplu_sehirler\n",
    "\n",
    "\n",
    "gruplanmis_sehirler = sehirleri_kitalara_gore_grupla(sehirler_sozlugu)\n",
    "\n",
    "for kıta, sehirler in gruplanmis_sehirler.items():\n",
    "    print(f\"--- {kıta} ---\")\n",
    "    for sehir, bilgi in sehirler.items():\n",
    "        print(f\"{sehir}: Ülke: {bilgi['ülke']}, Kıta: {bilgi['kıta']}\")\n",
    "    print()\n"
   ]
  },
  {
   "cell_type": "code",
   "execution_count": 17,
   "id": "3dbe2922",
   "metadata": {},
   "outputs": [
    {
     "name": "stdout",
     "output_type": "stream",
     "text": [
      "Tarihler arasındaki toplam gün sayısı: 364\n",
      "Tarihler arasındaki toplam hafta sayısı: 52\n"
     ]
    }
   ],
   "source": [
    "def gun_sayisi_hesapla(tarih1, tarih2):\n",
    "    yil1, ay1, gun1 = map(int, tarih1.split('-'))\n",
    "    yil2, ay2, gun2 = map(int, tarih2.split('-'))\n",
    "\n",
    "    gunler_aylar = [31, 28, 31, 30, 31, 30, 31, 31, 30, 31, 30, 31]\n",
    "\n",
    "    gun_sayisi_yil1 = gun1 + sum(gunler_aylar[:ay1 - 1])\n",
    "    gun_sayisi_yil2 = gun2 + sum(gunler_aylar[:ay2 - 1])\n",
    "\n",
    "    artik_yil_sayisi = 0\n",
    "    for yil in range(yil1, yil2):\n",
    "        if (yil % 4 == 0 and yil % 100 != 0) or yil % 400 == 0:\n",
    "            artik_yil_sayisi += 1\n",
    "\n",
    "    toplam_gun_sayisi = ((yil2 - yil1) * 365) + (gun_sayisi_yil2 - gun_sayisi_yil1) + artik_yil_sayisi\n",
    "\n",
    "    return toplam_gun_sayisi;\n",
    "\n",
    "def hafta_sayisi_hesapla(tarih1, tarih2):\n",
    "    gun_sayisi = gun_sayisi_hesapla(tarih1, tarih2)\n",
    "    hafta_sayisi = gun_sayisi // 7\n",
    "    return hafta_sayisi\n",
    "\n",
    "tarih1 = \"2023-01-01\"\n",
    "tarih2 = \"2023-12-31\"\n",
    "if __name__ == '__main__':\n",
    "    toplam_gun = gun_sayisi_hesapla(tarih1, tarih2)\n",
    "    print(f\"Tarihler arasındaki toplam gün sayısı: {toplam_gun}\")\n",
    "\n",
    "    toplam_hafta = hafta_sayisi_hesapla(tarih1, tarih2)\n",
    "    print(f\"Tarihler arasındaki toplam hafta sayısı: {toplam_hafta}\")\n"
   ]
  },
  {
   "cell_type": "code",
   "execution_count": 18,
   "id": "141ae815",
   "metadata": {},
   "outputs": [
    {
     "name": "stdout",
     "output_type": "stream",
     "text": [
      "İlk liste: [15, 16, 67, 45, 46, 25, 45, 93, 31, 90]\n",
      "İkinci liste: [65, 97, 99, 48, 32, 9, 74, 74, 5, 56]\n",
      "Sıralanmış liste: [5, 9, 15, 16, 25, 31, 32, 45, 45, 46, 48, 56, 65, 67, 74, 74, 90, 93, 97, 99]\n"
     ]
    }
   ],
   "source": [
    "import random\n",
    "\n",
    "liste1 = [random.randint(1, 100) for _ in range(10)]\n",
    "liste2 = [random.randint(1, 100) for _ in range(10)]\n",
    "\n",
    "print(\"İlk liste:\", liste1)\n",
    "print(\"İkinci liste:\", liste2)\n",
    "\n",
    "birlesmis_liste = liste1 + liste2\n",
    "\n",
    "def insertion_sort(arr):\n",
    "    for i in range(1, len(arr)):\n",
    "        key = arr[i]\n",
    "        j = i - 1\n",
    "        while j >= 0 and key < arr[j]:\n",
    "            arr[j + 1] = arr[j]\n",
    "            j -= 1\n",
    "        arr[j + 1] = key\n",
    "\n",
    "insertion_sort(birlesmis_liste)\n",
    "if __name__ == '__main__':\n",
    "    print(\"Sıralanmış liste:\", birlesmis_liste)\n"
   ]
  },
  {
   "cell_type": "code",
   "execution_count": null,
   "id": "76c97098",
   "metadata": {},
   "outputs": [],
   "source": []
  }
 ],
 "metadata": {
  "kernelspec": {
   "display_name": "Python 3 (ipykernel)",
   "language": "python",
   "name": "python3"
  },
  "language_info": {
   "codemirror_mode": {
    "name": "ipython",
    "version": 3
   },
   "file_extension": ".py",
   "mimetype": "text/x-python",
   "name": "python",
   "nbconvert_exporter": "python",
   "pygments_lexer": "ipython3",
   "version": "3.11.5"
  }
 },
 "nbformat": 4,
 "nbformat_minor": 5
}
