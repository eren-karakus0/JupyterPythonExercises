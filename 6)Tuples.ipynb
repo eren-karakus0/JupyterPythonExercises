{
 "cells": [
  {
   "cell_type": "code",
   "execution_count": 1,
   "id": "0202ac65",
   "metadata": {},
   "outputs": [],
   "source": [
    "myList = [10,\"a\",\"b\",3.14]"
   ]
  },
  {
   "cell_type": "code",
   "execution_count": 2,
   "id": "af0effc6",
   "metadata": {},
   "outputs": [
    {
     "data": {
      "text/plain": [
       "[10, 'a', 'b', 3.14]"
      ]
     },
     "execution_count": 2,
     "metadata": {},
     "output_type": "execute_result"
    }
   ],
   "source": [
    "myList"
   ]
  },
  {
   "cell_type": "code",
   "execution_count": 3,
   "id": "0abe5a8c",
   "metadata": {},
   "outputs": [],
   "source": [
    "#tuple"
   ]
  },
  {
   "cell_type": "code",
   "execution_count": 4,
   "id": "cfcc8d8a",
   "metadata": {},
   "outputs": [],
   "source": [
    "myTuple = (10,\"a\",\"b\",3.14)"
   ]
  },
  {
   "cell_type": "code",
   "execution_count": 5,
   "id": "bb1eb41a",
   "metadata": {},
   "outputs": [
    {
     "data": {
      "text/plain": [
       "tuple"
      ]
     },
     "execution_count": 5,
     "metadata": {},
     "output_type": "execute_result"
    }
   ],
   "source": [
    "type(myTuple)"
   ]
  },
  {
   "cell_type": "code",
   "execution_count": 6,
   "id": "150575af",
   "metadata": {},
   "outputs": [
    {
     "data": {
      "text/plain": [
       "10"
      ]
     },
     "execution_count": 6,
     "metadata": {},
     "output_type": "execute_result"
    }
   ],
   "source": [
    "myTuple[0]"
   ]
  },
  {
   "cell_type": "code",
   "execution_count": 9,
   "id": "52df0a28",
   "metadata": {},
   "outputs": [],
   "source": [
    "#myTuple[0]=100"
   ]
  },
  {
   "cell_type": "code",
   "execution_count": 10,
   "id": "985e41cc",
   "metadata": {},
   "outputs": [],
   "source": [
    "#immutability (değiştirilemez)"
   ]
  },
  {
   "cell_type": "code",
   "execution_count": 11,
   "id": "39456b9b",
   "metadata": {},
   "outputs": [
    {
     "data": {
      "text/plain": [
       "(10, 'a', 'b', 3.14)"
      ]
     },
     "execution_count": 11,
     "metadata": {},
     "output_type": "execute_result"
    }
   ],
   "source": [
    "myTuple"
   ]
  },
  {
   "cell_type": "code",
   "execution_count": 12,
   "id": "6a93f6b0",
   "metadata": {},
   "outputs": [
    {
     "data": {
      "text/plain": [
       "1"
      ]
     },
     "execution_count": 12,
     "metadata": {},
     "output_type": "execute_result"
    }
   ],
   "source": [
    "myTuple.index(\"a\")"
   ]
  },
  {
   "cell_type": "code",
   "execution_count": 15,
   "id": "e392836d",
   "metadata": {},
   "outputs": [
    {
     "data": {
      "text/plain": [
       "1"
      ]
     },
     "execution_count": 15,
     "metadata": {},
     "output_type": "execute_result"
    }
   ],
   "source": [
    "myTuple.count(\"a\")"
   ]
  },
  {
   "cell_type": "code",
   "execution_count": 17,
   "id": "0686dd28",
   "metadata": {},
   "outputs": [],
   "source": [
    "resultTuple = (10,100,20)"
   ]
  },
  {
   "cell_type": "code",
   "execution_count": 18,
   "id": "a1f64678",
   "metadata": {},
   "outputs": [
    {
     "data": {
      "text/plain": [
       "(10, 100, 20)"
      ]
     },
     "execution_count": 18,
     "metadata": {},
     "output_type": "execute_result"
    }
   ],
   "source": [
    "resultTuple"
   ]
  },
  {
   "cell_type": "code",
   "execution_count": 19,
   "id": "0d338a7c",
   "metadata": {},
   "outputs": [],
   "source": [
    "resultList = list(resultTuple)"
   ]
  },
  {
   "cell_type": "code",
   "execution_count": 20,
   "id": "731e8723",
   "metadata": {},
   "outputs": [
    {
     "data": {
      "text/plain": [
       "[10, 100, 20]"
      ]
     },
     "execution_count": 20,
     "metadata": {},
     "output_type": "execute_result"
    }
   ],
   "source": [
    "resultList"
   ]
  },
  {
   "cell_type": "code",
   "execution_count": null,
   "id": "ea2e7776",
   "metadata": {},
   "outputs": [],
   "source": []
  }
 ],
 "metadata": {
  "kernelspec": {
   "display_name": "Python 3 (ipykernel)",
   "language": "python",
   "name": "python3"
  },
  "language_info": {
   "codemirror_mode": {
    "name": "ipython",
    "version": 3
   },
   "file_extension": ".py",
   "mimetype": "text/x-python",
   "name": "python",
   "nbconvert_exporter": "python",
   "pygments_lexer": "ipython3",
   "version": "3.11.5"
  }
 },
 "nbformat": 4,
 "nbformat_minor": 5
}
