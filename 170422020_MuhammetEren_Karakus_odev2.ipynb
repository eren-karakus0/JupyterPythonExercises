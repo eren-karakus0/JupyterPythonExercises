{
 "cells": [
  {
   "cell_type": "code",
   "execution_count": 1,
   "id": "2566e01c",
   "metadata": {},
   "outputs": [
    {
     "name": "stdout",
     "output_type": "stream",
     "text": [
      "Doğum yılınızı girin: 2004\n",
      "Emeklilik yaşınızı girin: 2050\n",
      "Emeklilik yılınız: 4054. Emekli olmanıza 2031 yıl kaldı.\n",
      "Doğum yılınızı girin: 2004\n",
      "Emeklilik yaşınızı girin: 56\n",
      "Emeklilik yılınız: 2060. Emekli olmanıza 37 yıl kaldı.\n",
      "Doğum yılınızı girin: 1984\n",
      "Emeklilik yaşınızı girin: 80\n",
      "Emeklilik yılınız: 2064. Emekli olmanıza 41 yıl kaldı.\n"
     ]
    }
   ],
   "source": [
    "def emeklilik_yilini_hesapla(dogum_yili, emeklilik_yasi):\n",
    "    simdiki_yil = 2023  \n",
    "    yas = simdiki_yil - dogum_yili\n",
    "    emeklilik_yili = dogum_yili + emeklilik_yasi\n",
    "\n",
    "    if yas < 0:\n",
    "        return \"Yanlış doğum yılı girdiniz. Lütfen doğru bir tarih giriniz.\"\n",
    "    elif yas > emeklilik_yasi:\n",
    "        return \"Zaten emeklisin?!\"\n",
    "    elif yas == emeklilik_yasi:\n",
    "        return \"Tebrikler!! Bu yıl emekli olabilirsin!\"\n",
    "    elif yas < emeklilik_yasi:\n",
    "        kalan_yil = emeklilik_yili - simdiki_yil\n",
    "        return f\"Emeklilik yılınız: {emeklilik_yili}. Emekli olmanıza {kalan_yil} yıl kaldı.\"\n",
    "\n",
    "\n",
    "if __name__ == '__main__':\n",
    "    for i in range(3):\n",
    "        dogum_yili = int(input(\"Doğum yılınızı girin: \"))\n",
    "        emeklilik_yasi = int(input(\"Emeklilik yaşınızı girin: \"))\n",
    "        print(emeklilik_yilini_hesapla(dogum_yili, emeklilik_yasi))"
   ]
  },
  {
   "cell_type": "code",
   "execution_count": 16,
   "id": "99da1288",
   "metadata": {},
   "outputs": [
    {
     "name": "stdout",
     "output_type": "stream",
     "text": [
      "'hava' kelimesi metinde 8 kez geçiyor.\n"
     ]
    }
   ],
   "source": [
    "def kelime_say(metin, kelime):\n",
    "    \n",
    "    sayim = metin.lower().count(kelime.lower())\n",
    "    return sayim\n",
    "if __name__ == '__main__':\n",
    "    \n",
    "    metin = \"\"\"\n",
    " kirliliği, dünya genelinde büyük bir çevresel sorun olarak karşımıza çıkmaktadır. Hava kirliliği,\n",
    "atmosferdeki zararlı gazlar, kimyasallar, tozlar ve partiküllerin yüksek seviyelerde bulunması sonucu\n",
    "ortaya çıkar. Bu kirleticiler, sanayi tesisleri, araç emisyonları, enerji üretimi ve tarım gibi kaynaklardan\n",
    "atmosfere salınır. Hava kirliliği, ciddi sağlık sorunlarına yol açabilir ve doğal ekosistemlere zarar\n",
    "verebilir.\n",
    "Hava kirliliği, insan sağlığına bir dizi olumsuz etki yapar. Kirli hava solumak, solunum yolu\n",
    "hastalıklarının, kalp hastalıklarının, kanser riskinin artmasına ve genel yaşam kalitesinin\n",
    "düşmesine neden olabilir. Ayrıca, çocuklar, yaşlılar ve kronik sağlık sorunları olanlar, hava\n",
    "kirliliğinin etkilerine daha fazla maruz kalabilirler.\n",
    "Hava kirliliği aynı zamanda ekosistemlere zarar verir. Bitkiler, hayvanlar ve su kaynakları\n",
    "üzerinde olumsuz etkiler yaratabilir, biyolojik çeşitliliği azaltabilir ve tarım verimliliğini\n",
    "etkileyebilir.\n",
    "Bu sorunun çözümü için dünya genelinde çevresel düzenlemeler ve temiz enerji kaynaklarına\n",
    "geçiş gibi adımlar atılmaktadır. Ayrıca, bireysel olarak daha çevre dostu seçimler yaparak da\n",
    "hava kirliliğinin azaltılmasına katkı sağlayabiliriz. Hava kirliliği ile mücadele, hem insan\n",
    "sağlığını hem de gezegenimizin geleceğini korumak için önemlidir.\n",
    "\"\"\"\n",
    "    kelime = \"hava\"\n",
    "    sayac = kelime_say(metin, kelime)\n",
    "    print(f\"'{kelime}' kelimesi metinde {sayac} kez geçiyor.\")\n",
    "\n"
   ]
  },
  {
   "cell_type": "code",
   "execution_count": 19,
   "id": "aaaffb42",
   "metadata": {},
   "outputs": [
    {
     "name": "stdout",
     "output_type": "stream",
     "text": [
      "Determinant: 0\n"
     ]
    }
   ],
   "source": [
    "def determinant_hesapla(matrix):\n",
    "    if len(matrix) != 3 or len(matrix[0]) != 3 or len(matrix[1]) != 3 or len(matrix[2]) != 3:\n",
    "        return \"Yanlış matris boyutu girdiniz. Lütfen 3x3 boyutunda bir matris girin.\"\n",
    "    \n",
    "    det = (matrix[0][0] * (matrix[1][1] * matrix[2][2] - matrix[2][1] * matrix[1][2])\n",
    "           - matrix[0][1] * (matrix[1][0] * matrix[2][2] - matrix[2][0] * matrix[1][2])\n",
    "           + matrix[0][2] * (matrix[1][0] * matrix[2][1] - matrix[2][0] * matrix[1][1]))\n",
    "\n",
    "    return det\n",
    "\n",
    "if __name__ == '__main__':\n",
    "    matrix = [\n",
    "        [1, 2, 3],\n",
    "        [4, 5, 6],\n",
    "        [7, 8, 9]\n",
    "    ]\n",
    "\n",
    "    print(f\"Determinant: {determinant_hesapla(matrix)}\")\n"
   ]
  },
  {
   "cell_type": "code",
   "execution_count": null,
   "id": "fbf27784",
   "metadata": {},
   "outputs": [],
   "source": []
  }
 ],
 "metadata": {
  "kernelspec": {
   "display_name": "Python 3 (ipykernel)",
   "language": "python",
   "name": "python3"
  },
  "language_info": {
   "codemirror_mode": {
    "name": "ipython",
    "version": 3
   },
   "file_extension": ".py",
   "mimetype": "text/x-python",
   "name": "python",
   "nbconvert_exporter": "python",
   "pygments_lexer": "ipython3",
   "version": "3.11.5"
  }
 },
 "nbformat": 4,
 "nbformat_minor": 5
}
